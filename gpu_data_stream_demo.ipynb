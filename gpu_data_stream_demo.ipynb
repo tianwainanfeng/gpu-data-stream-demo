{
  "nbformat": 4,
  "nbformat_minor": 0,
  "metadata": {
    "colab": {
      "provenance": [],
      "gpuType": "T4",
      "authorship_tag": "ABX9TyPbgOmMmHFMLk4PgGIRkrWj",
      "include_colab_link": true
    },
    "kernelspec": {
      "name": "python3",
      "display_name": "Python 3"
    },
    "language_info": {
      "name": "python"
    },
    "accelerator": "GPU"
  },
  "cells": [
    {
      "cell_type": "markdown",
      "metadata": {
        "id": "view-in-github",
        "colab_type": "text"
      },
      "source": [
        "<a href=\"https://colab.research.google.com/github/tianwainanfeng/gpu-data-stream-demo/blob/main/gpu_data_stream_demo.ipynb\" target=\"_parent\"><img src=\"https://colab.research.google.com/assets/colab-badge.svg\" alt=\"Open In Colab\"/></a>"
      ]
    },
    {
      "cell_type": "code",
      "execution_count": 1,
      "metadata": {
        "colab": {
          "base_uri": "https://localhost:8080/"
        },
        "id": "kAvY5nsRL24c",
        "outputId": "498d8e93-2c41-472c-b2d4-cbbd92a2b58e"
      },
      "outputs": [
        {
          "output_type": "stream",
          "name": "stdout",
          "text": [
            "Wed Oct 15 00:07:32 2025       \n",
            "+-----------------------------------------------------------------------------------------+\n",
            "| NVIDIA-SMI 550.54.15              Driver Version: 550.54.15      CUDA Version: 12.4     |\n",
            "|-----------------------------------------+------------------------+----------------------+\n",
            "| GPU  Name                 Persistence-M | Bus-Id          Disp.A | Volatile Uncorr. ECC |\n",
            "| Fan  Temp   Perf          Pwr:Usage/Cap |           Memory-Usage | GPU-Util  Compute M. |\n",
            "|                                         |                        |               MIG M. |\n",
            "|=========================================+========================+======================|\n",
            "|   0  Tesla T4                       Off |   00000000:00:04.0 Off |                    0 |\n",
            "| N/A   72C    P8             13W /   70W |       0MiB /  15360MiB |      0%      Default |\n",
            "|                                         |                        |                  N/A |\n",
            "+-----------------------------------------+------------------------+----------------------+\n",
            "                                                                                         \n",
            "+-----------------------------------------------------------------------------------------+\n",
            "| Processes:                                                                              |\n",
            "|  GPU   GI   CI        PID   Type   Process name                              GPU Memory |\n",
            "|        ID   ID                                                               Usage      |\n",
            "|=========================================================================================|\n",
            "|  No running processes found                                                             |\n",
            "+-----------------------------------------------------------------------------------------+\n"
          ]
        }
      ],
      "source": [
        "# Show the GPU available in this Colab session\n",
        "!nvidia-smi"
      ]
    },
    {
      "cell_type": "code",
      "source": [
        "# Try 12.x wheel first (change to cupy-cuda11x if the install fails)\n",
        "!pip install -q cupy-cuda12x numpy matplotlib"
      ],
      "metadata": {
        "id": "UW1_7-niMXeg"
      },
      "execution_count": 2,
      "outputs": []
    },
    {
      "cell_type": "code",
      "source": [
        "# Verify CuPy works and get device info\n",
        "import importlib, sys\n",
        "try:\n",
        "    import cupy as cp\n",
        "    print(\"CuPy version:\", cp.__version__)\n",
        "    print(\"Detected GPU name:\", cp.cuda.runtime.getDeviceProperties(0)['name'].decode())\n",
        "except Exception as e:\n",
        "    print(\"CuPy import failed or no GPU available:\", e)\n",
        "    # fallback to numpy so the rest of the notebook still runs\n",
        "    import numpy as cp\n",
        "    print(\"Falling back to numpy. You won't get GPU acceleration.\")\n"
      ],
      "metadata": {
        "colab": {
          "base_uri": "https://localhost:8080/"
        },
        "id": "pQLuN2LmMfdK",
        "outputId": "3db88e51-cf95-4b4f-83f3-b843daecc883"
      },
      "execution_count": 3,
      "outputs": [
        {
          "output_type": "stream",
          "name": "stdout",
          "text": [
            "CuPy version: 13.3.0\n",
            "Detected GPU name: Tesla T4\n"
          ]
        }
      ]
    },
    {
      "cell_type": "code",
      "source": [
        "# Real-time GPU/CPU data stream demo (notebook friendly)\n",
        "import time\n",
        "import numpy as np\n",
        "import matplotlib.pyplot as plt\n",
        "from IPython.display import clear_output, display\n",
        "\n",
        "# Try to use CuPy (GPU); fall back to NumPy (CPU)\n",
        "USE_GPU = False\n",
        "try:\n",
        "    import cupy as cp\n",
        "    USE_GPU = True\n",
        "except Exception:\n",
        "    import numpy as cp  # alias cp -> numpy for fallback\n",
        "\n",
        "print(\"Running on\", \"GPU (CuPy)\" if USE_GPU else \"CPU (NumPy)\")\n",
        "\n",
        "STREAM_RATE_HZ = 20\n",
        "CHUNK_SIZE = 2048\n",
        "GPU_FILTER_ALPHA = 0.9\n",
        "SHOW_FFT = True\n",
        "DURATION_SEC = 10\n",
        "\n",
        "start_time = time.time()\n",
        "plt.ioff()\n",
        "\n",
        "while time.time() - start_time < DURATION_SEC:\n",
        "    # (1) Simulate data on CPU (numpy)\n",
        "    t = np.linspace(0, 1, CHUNK_SIZE)\n",
        "    noise = np.random.normal(0, 0.3, CHUNK_SIZE)\n",
        "    signal = np.sin(2 * np.pi * 5 * t) + noise\n",
        "\n",
        "    # (2) Move to GPU array if CuPy is used (cp may be numpy or cupy)\n",
        "    gpu_data = cp.asarray(signal, dtype=cp.float32)\n",
        "\n",
        "    # (3) Simple EMA filter (works with CuPy or NumPy)\n",
        "    if 'prev' not in globals():\n",
        "        prev = cp.zeros_like(gpu_data)\n",
        "    gpu_filtered = GPU_FILTER_ALPHA * prev + (1 - GPU_FILTER_ALPHA) * gpu_data\n",
        "    prev = gpu_filtered  # save state\n",
        "\n",
        "    # (4) FFT optionally (on GPU if available)\n",
        "    if SHOW_FFT:\n",
        "        gpu_fft = cp.fft.fft(gpu_filtered)\n",
        "        out = cp.asnumpy(cp.abs(gpu_fft[:CHUNK_SIZE // 2])) if USE_GPU else np.abs(gpu_fft[:CHUNK_SIZE // 2])\n",
        "        x = np.arange(len(out))\n",
        "        ylim = (0, out.max() * 1.2 + 1e-6)\n",
        "        title = \"FFT magnitude (GPU processed)\" if USE_GPU else \"FFT magnitude (CPU processed)\"\n",
        "    else:\n",
        "        out = cp.asnumpy(gpu_filtered) if USE_GPU else np.asarray(gpu_filtered)\n",
        "        x = np.arange(len(out))\n",
        "        ylim = (-2, 2)\n",
        "        title = \"Filtered waveform (GPU)\" if USE_GPU else \"Filtered waveform (CPU)\"\n",
        "\n",
        "    # (5) Plot (clear & re-draw)\n",
        "    clear_output(wait=True)\n",
        "    fig, ax = plt.subplots(figsize=(9,3))\n",
        "    ax.plot(x, out, lw=1)\n",
        "    ax.set_title(title)\n",
        "    ax.set_xlim(0, x[-1])\n",
        "    ax.set_ylim(*ylim)\n",
        "    display(fig)\n",
        "    plt.close(fig)\n",
        "\n",
        "    # pace the stream\n",
        "    time.sleep(1.0 / STREAM_RATE_HZ)\n",
        "\n",
        "print(\"Demo finished.\")"
      ],
      "metadata": {
        "colab": {
          "base_uri": "https://localhost:8080/",
          "height": 332
        },
        "id": "RDSlfOdpMnkI",
        "outputId": "99bd3dac-919a-456c-c09e-36d0dab70d7f"
      },
      "execution_count": 4,
      "outputs": [
        {
          "output_type": "display_data",
          "data": {
            "text/plain": [
              "<Figure size 900x300 with 1 Axes>"
            ],
            "image/png": "[encoded data removed]"
          },
          "metadata": {}
        },
        {
          "output_type": "stream",
          "name": "stdout",
          "text": [
            "Demo finished.\n"
          ]
        }
      ]
    },
    {
      "cell_type": "code",
      "source": [],
      "metadata": {
        "id": "zktMibLUMv64"
      },
      "execution_count": null,
      "outputs": []
    }
  ]
}